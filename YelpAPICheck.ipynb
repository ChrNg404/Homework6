{
 "cells": [
  {
   "cell_type": "code",
   "execution_count": 2,
   "metadata": {},
   "outputs": [],
   "source": [
    "import csv\n",
    "import requests\n",
    "import pandas as pd\n",
    "from pprint import pprint\n",
    "from yelp.client import Client\n",
    "\n",
    "MY_API_KEY = \"XRd04SIPzQtgFzAq4PcI9W_HAIjTA4aocwoGtY7VLVlvgJw5QuuptD1eg_1ou8KZEw8L-24hmDEgGVX1pnOh4OewbOieiRI-663D6-xIMgGtwMhPB1vobMm5bsbjW3Yx\" #  Replace this with your real API key\n",
    "\n",
    "client = Client(MY_API_KEY)\n",
    "#print(dir(client))\n",
    "#print(help(client))"
   ]
  },
  {
   "cell_type": "code",
   "execution_count": null,
   "metadata": {},
   "outputs": [],
   "source": []
  },
  {
   "cell_type": "code",
   "execution_count": 3,
   "metadata": {},
   "outputs": [],
   "source": [
    "apikey = \"XRd04SIPzQtgFzAq4PcI9W_HAIjTA4aocwoGtY7VLVlvgJw5QuuptD1eg_1ou8KZEw8L-24hmDEgGVX1pnOh4OewbOieiRI-663D6-xIMgGtwMhPB1vobMm5bsbjW3Yx\""
   ]
  },
  {
   "cell_type": "code",
   "execution_count": 36,
   "metadata": {},
   "outputs": [
    {
     "name": "stdout",
     "output_type": "stream",
     "text": [
      "<yelpapi.yelpapi.YelpAPI object at 0x000001D31A4EF390>\n",
      "[('Ballast Point Little Italy', 4.5)]\n",
      "[('Werewolf', 4.5)]\n",
      "[('Ballast Point Miramar', 4.0)]\n",
      "[(\"Phil's BBQ\", 4.5)]\n",
      "[('The Crack Shack', 4.0)]\n",
      "[('CUCINA urbana', 4.5)]\n",
      "[('Din Tai Fung', 4.5)]\n",
      "[('100s Seafood Grill Buffet', 4.0)]\n",
      "[('Homestyle Hawaiian', 4.0)]\n",
      "[('Barbusa', 4.0)]\n",
      "[('Cross Street Chicken & Beer', 4.5)]\n",
      "[('Crushed', 4.5)]\n",
      "[('Ironside Fish & Oyster', 4.0)]\n",
      "[(\"Bud's Louisiana Cafe\", 4.5)]\n",
      "[('Lucha Libre Gourmet Taco Shop', 4.0)]\n",
      "[(\"Tom Ham's Lighthouse\", 4.0)]\n",
      "[('Rei Do Gado Brazilian Steakhouse', 4.0)]\n",
      "[('Blue Water Seafood Market & Grill', 4.0)]\n",
      "[('Puesto at The Headquarters', 4.0)]\n",
      "[('Bencotto Italian Kitchen', 4.0)]\n",
      "[('Bahn Thai', 4.5)]\n",
      "[('Island Prime', 4.5)]\n",
      "[('Cafe Sevilla', 4.0)]\n",
      "[('Azuki Sushi Lounge', 4.5)]\n",
      "[(\"Oscar's Mexican Seafood\", 4.5)]\n",
      "[('Starlite', 4.0)]\n",
      "[('Embargo Grill', 4.5)]\n",
      "[('Popcorn Chicken', 3.5)]\n",
      "[('Devine Pastabilities', 4.5)]\n",
      "[('Dumpling Inn', 4.0)]\n",
      "[('Ristorante Illando', 4.5)]\n",
      "[('OB Noodle House', 4.0)]\n",
      "[('Searsucker', 4.0)]\n",
      "[('Costa Brava', 4.5)]\n",
      "[('Kettner Exchange', 4.0)]\n",
      "[('Buon Appetito', 4.0)]\n",
      "[('The Fish Market', 3.5)]\n",
      "[('Pushkin Russian Restaurant', 4.5)]\n",
      "[('Parma - Cucina Italiana', 4.5)]\n",
      "[('Tahini', 5.0)]\n",
      "[('Coasterra', 4.0)]\n",
      "[('Classics Malt Shop', 5.0)]\n",
      "[('The Smoking Goat', 4.0)]\n",
      "[('Kindred', 4.5)]\n",
      "[('Supannee House of Thai', 4.0)]\n",
      "[('La Puerta', 4.0)]\n",
      "[('Tajima Ramen House', 4.0)]\n",
      "[('Trust', 4.5)]\n",
      "[('Piacere Mio - South Park', 4.5)]\n",
      "[('Buona Forchetta', 4.5)]\n",
      "50\n"
     ]
    }
   ],
   "source": [
    "from yelpapi import YelpAPI\n",
    "import json\n",
    "yelp_api = YelpAPI(apikey)\n",
    "name = []\n",
    "rating = []\n",
    "category = []\n",
    "print(yelp_api)\n",
    "city = [\"San Diego\"]\n",
    "#for city in cities:\n",
    "# indent the next line if we're using the above loop\n",
    "search_results = yelp_api.search_query(location=city, term=\"restaurant\", limit = 50)\n",
    "#print(json.dumps(search_results, indent=4))\n",
    "    # print([b['name'] for b in search_results['businesses']])\n",
    "for b in search_results['businesses']:\n",
    "        print([(b['name'],b['rating'])])\n",
    "        name.append([(b['name'],b['rating'])])\n",
    "print(len(search_results['businesses']))\n",
    "    \n",
    "    "
   ]
  },
  {
   "cell_type": "code",
   "execution_count": 42,
   "metadata": {},
   "outputs": [
    {
     "data": {
      "text/plain": [
       "1"
      ]
     },
     "execution_count": 42,
     "metadata": {},
     "output_type": "execute_result"
    }
   ],
   "source": [
    "{0:1}[0]"
   ]
  },
  {
   "cell_type": "code",
   "execution_count": null,
   "metadata": {},
   "outputs": [],
   "source": []
  },
  {
   "cell_type": "code",
   "execution_count": null,
   "metadata": {},
   "outputs": [],
   "source": []
  }
 ],
 "metadata": {
  "kernelspec": {
   "display_name": "Python 3",
   "language": "python",
   "name": "python3"
  },
  "language_info": {
   "codemirror_mode": {
    "name": "ipython",
    "version": 3
   },
   "file_extension": ".py",
   "mimetype": "text/x-python",
   "name": "python",
   "nbconvert_exporter": "python",
   "pygments_lexer": "ipython3",
   "version": "3.7.0"
  }
 },
 "nbformat": 4,
 "nbformat_minor": 2
}
